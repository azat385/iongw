{
 "cells": [
  {
   "cell_type": "code",
   "execution_count": 1,
   "metadata": {
    "collapsed": false,
    "deletable": true,
    "editable": true
   },
   "outputs": [],
   "source": [
    "from sqlalchemy import create_engine, MetaData\n",
    "from sqlalchemy import Column, Integer, String, ForeignKey, REAL\n",
    "from sqlalchemy.orm import relationship\n",
    "from sqlalchemy.ext.declarative import declarative_base\n",
    "\n",
    "from sql_create_table import Data, Device, Tag, Base\n",
    "\n",
    "from sqlalchemy.sql import func, cast\n",
    "from sqlalchemy import types, and_, select\n",
    "\n",
    "class Gateway(Base):\n",
    "    __tablename__ = 'gateway'\n",
    "    id = Column(Integer, primary_key=True)\n",
    "    name = Column(String(50), nullable=False, unique=True)\n",
    "    desc_short = Column(String(50))\n",
    "    desc_long = Column(String(250))\n",
    "\n",
    "    def __repr__(self):\n",
    "        return \"<Gateway(id='{}', name='{}')>\".format(self.id, self.name)\n",
    "\n",
    "    \n",
    "class Hourly(Base):\n",
    "    __tablename__ = 'hourly'\n",
    "    id = Column(Integer, primary_key=True)\n",
    "    gateway_id = Column(Integer, ForeignKey('gateway.id'))\n",
    "    gateway = relationship(Gateway)   \n",
    "    device_id = Column(Integer, ForeignKey('device.id'))\n",
    "    device = relationship(Device)\n",
    "    tag_id = Column(Integer, ForeignKey('tag.id'))\n",
    "    tag = relationship(Tag)\n",
    "    start_data_id = Column(Integer, ForeignKey('data.id'))\n",
    "    end_data_id = Column(Integer, ForeignKey('data.id'))\n",
    "    value = Column(REAL)\n",
    "    stime = Column(String(50))\n",
    "    \n",
    "    start_data = relationship(Data, foreign_keys='Hourly.start_data_id')\n",
    "    end_data = relationship(Data, foreign_keys='Hourly.end_data_id')\n",
    "    \n",
    "    def __repr__(self):\n",
    "        return \"<Hourly(id='{}', value='{}')>\".format(self.id, self.value)\n",
    "    \n",
    "url = 'postgresql://{}:{}@{}:{}/{}'\n",
    "url = url.format('dbraw', ',fpflfyys[', 'localhost', 5432, 'dbraw')\n",
    "engine = create_engine(url, client_encoding='utf8', echo=False)\n",
    "\n",
    "      "
   ]
  },
  {
   "cell_type": "code",
   "execution_count": 2,
   "metadata": {
    "collapsed": false,
    "deletable": true,
    "editable": true
   },
   "outputs": [],
   "source": [
    "# Base.metadata.create_all(engine)"
   ]
  },
  {
   "cell_type": "code",
   "execution_count": 3,
   "metadata": {
    "collapsed": false,
    "deletable": true,
    "editable": true
   },
   "outputs": [],
   "source": [
    "# meta = MetaData(bind=engine, reflect=True)\n",
    "\n",
    "# for table in meta.tables:\n",
    "#     print table\n"
   ]
  },
  {
   "cell_type": "code",
   "execution_count": 4,
   "metadata": {
    "collapsed": false,
    "deletable": true,
    "editable": true
   },
   "outputs": [
    {
     "data": {
      "text/plain": [
       "590426L"
      ]
     },
     "execution_count": 4,
     "metadata": {},
     "output_type": "execute_result"
    }
   ],
   "source": [
    "from sqlalchemy.orm import sessionmaker\n",
    "\n",
    "DBSession = sessionmaker(bind=engine)\n",
    "session = DBSession()\n",
    "\n",
    "session.query(Data).count()"
   ]
  },
  {
   "cell_type": "code",
   "execution_count": 5,
   "metadata": {
    "collapsed": false,
    "deletable": true,
    "editable": true
   },
   "outputs": [],
   "source": [
    "# with engine.connect() as con:\n",
    "\n",
    "#     rs = con.execute(\"\"\"SELECT data.stime as minute FROM data LIMIT 5\"\"\")\n",
    "\n",
    "#     for row in rs:\n",
    "#         print row"
   ]
  },
  {
   "cell_type": "code",
   "execution_count": 6,
   "metadata": {
    "collapsed": false
   },
   "outputs": [
    {
     "name": "stdout",
     "output_type": "stream",
     "text": [
      "2017-03-26 22:00\n"
     ]
    }
   ],
   "source": [
    "from datetime import datetime\n",
    "def my_tstamp_strip(t):\n",
    "    return datetime.strptime(t,\"%Y-%m-%d %H:%M:%S.%f\").strftime(\"%Y-%m-%d %H:00\")\n",
    "ts_example = u'2017-03-26 22:20:00.159490'\n",
    "print my_tstamp_strip(ts_example)"
   ]
  },
  {
   "cell_type": "code",
   "execution_count": 7,
   "metadata": {
    "collapsed": true
   },
   "outputs": [],
   "source": [
    "def get_hourly_last_row_stime():\n",
    "    # get last row time stamp\n",
    "    last_record = session.query(Hourly).filter(\n",
    "        and_(\n",
    "            Hourly.gateway==g,\n",
    "            Hourly.device==d,\n",
    "            Hourly.tag==t,\n",
    "        )\n",
    "    ).order_by(Hourly.id.desc()).first()\n",
    "    if last_record is None:\n",
    "        stime = \"2017-00-00 00:00\"\n",
    "        print \"INITIAL TIME IS USED\"\n",
    "    else:\n",
    "        stime = last_record.stime\n",
    "\n",
    "    print \"last_record_stime:\", stime\n",
    "    return stime\n"
   ]
  },
  {
   "cell_type": "code",
   "execution_count": 8,
   "metadata": {
    "collapsed": true,
    "deletable": true,
    "editable": true
   },
   "outputs": [],
   "source": [
    "def add_data_hourly(required):\n",
    "    r_add = 0\n",
    "    for i,[r_data,r_hour] in enumerate(required):\n",
    "        if i==0:\n",
    "            r_data_prev = r_data\n",
    "            continue\n",
    "        #print r_data, r_hour, r_data.value-r_data_prev.value, my_tstamp_strip(r_data.stime)\n",
    "        new_hour = Hourly(gateway=g,\n",
    "                          device=d,\n",
    "                          tag=t,\n",
    "                          value=r_data.value-r_data_prev.value,\n",
    "                          stime=my_tstamp_strip(r_data.stime),\n",
    "                          start_data=r_data_prev,\n",
    "                          end_data=r_data,\n",
    "                         )\n",
    "        session.add(new_hour)\n",
    "        r_add += 1\n",
    "        r_data_prev = r_data\n",
    "    session.commit()\n",
    "    return r_add"
   ]
  },
  {
   "cell_type": "code",
   "execution_count": 15,
   "metadata": {
    "collapsed": true
   },
   "outputs": [],
   "source": [
    "def one_tag_shot(g,d,t):\n",
    "    sql_limit=1000\n",
    "    i = 0\n",
    "    rows_added = 0\n",
    "    while i<20:\n",
    "        last_record_stime = get_hourly_last_row_stime()\n",
    "\n",
    "        main_query = session.query(Data, h, m).filter(\n",
    "            and_(\n",
    "                Data.device==d,\n",
    "                Data.tag==t,\n",
    "                m<5,\n",
    "                Data.stime>last_record_stime,\n",
    "            )\n",
    "        ).order_by(Data.id)\n",
    "\n",
    "        records = main_query.limit(sql_limit).all()\n",
    "        # print records\n",
    "\n",
    "        if records is None:\n",
    "            print \"NOTHING TO ADD!!!!\"\n",
    "            break\n",
    "        else:\n",
    "            #sort duplicate hour data to required\n",
    "            required = []\n",
    "            r_hour_prev = None\n",
    "            for r_data, r_hour, r_min in records:\n",
    "                if r_hour!=r_hour_prev:\n",
    "                    #print r_data, r_hour, r_min\n",
    "                    required.append([r_data, r_hour])\n",
    "                    r_hour_prev=r_hour\n",
    "                else:\n",
    "                    continue\n",
    "            print \"len(required):\",len(required)\n",
    "\n",
    "            # add data to table\n",
    "            if len(required)>1:\n",
    "                print \"ADD TO HOURLY TABLE\"\n",
    "                rows_added += add_data_hourly(required)\n",
    "            else:\n",
    "                print \"TOO LESS DATA, cant add\"\n",
    "                break\n",
    "    print g.name, d.name, t.name, \"rows_added:\", rows_added"
   ]
  },
  {
   "cell_type": "code",
   "execution_count": 16,
   "metadata": {
    "collapsed": false,
    "deletable": true,
    "editable": true
   },
   "outputs": [
    {
     "name": "stdout",
     "output_type": "stream",
     "text": [
      "0 EactSumImport\n",
      "1 EreactSumImport\n",
      "2 EactImportPhA\n",
      "3 EactImportPhB\n",
      "4 EactImportPhC\n",
      "last_record_stime: 2017-04-17 13:00\n",
      "len(required): 1\n",
      "TOO LESS DATA, cant add\n",
      "iongw1 m1 EactSumImport rows_added: 0\n",
      "last_record_stime: 2017-04-17 13:00\n",
      "len(required): 1\n",
      "TOO LESS DATA, cant add\n",
      "iongw1 m1 EreactSumImport rows_added: 0\n",
      "last_record_stime: 2017-04-17 13:00\n",
      "len(required): 1\n",
      "TOO LESS DATA, cant add\n",
      "iongw1 m1 EactImportPhA rows_added: 0\n",
      "last_record_stime: 2017-04-17 13:00\n",
      "len(required): 1\n",
      "TOO LESS DATA, cant add\n",
      "iongw1 m1 EactImportPhB rows_added: 0\n",
      "last_record_stime: 2017-04-17 13:00\n",
      "len(required): 1\n",
      "TOO LESS DATA, cant add\n",
      "iongw1 m1 EactImportPhC rows_added: 0\n",
      "last_record_stime: 2017-04-17 13:00\n",
      "len(required): 1\n",
      "TOO LESS DATA, cant add\n",
      "iongw1 m2 EactSumImport rows_added: 0\n",
      "last_record_stime: 2017-04-17 13:00\n",
      "len(required): 1\n",
      "TOO LESS DATA, cant add\n",
      "iongw1 m2 EreactSumImport rows_added: 0\n",
      "last_record_stime: 2017-04-17 13:00\n",
      "len(required): 1\n",
      "TOO LESS DATA, cant add\n",
      "iongw1 m2 EactImportPhA rows_added: 0\n",
      "last_record_stime: 2017-04-17 13:00\n",
      "len(required): 1\n",
      "TOO LESS DATA, cant add\n",
      "iongw1 m2 EactImportPhB rows_added: 0\n",
      "last_record_stime: 2017-04-17 13:00\n",
      "len(required): 1\n",
      "TOO LESS DATA, cant add\n",
      "iongw1 m2 EactImportPhC rows_added: 0\n",
      "last_record_stime: 2017-04-17 13:00\n",
      "len(required): 1\n",
      "TOO LESS DATA, cant add\n",
      "iongw1 m3 EactSumImport rows_added: 0\n",
      "last_record_stime: 2017-04-17 13:00\n",
      "len(required): 1\n",
      "TOO LESS DATA, cant add\n",
      "iongw1 m3 EreactSumImport rows_added: 0\n",
      "last_record_stime: 2017-04-17 13:00\n",
      "len(required): 1\n",
      "TOO LESS DATA, cant add\n",
      "iongw1 m3 EactImportPhA rows_added: 0\n",
      "last_record_stime: 2017-04-17 13:00\n",
      "len(required): 1\n",
      "TOO LESS DATA, cant add\n",
      "iongw1 m3 EactImportPhB rows_added: 0\n",
      "last_record_stime: 2017-04-17 13:00\n",
      "len(required): 1\n",
      "TOO LESS DATA, cant add\n",
      "iongw1 m3 EactImportPhC rows_added: 0\n",
      "last_record_stime: 2017-04-17 13:00\n",
      "len(required): 1\n",
      "TOO LESS DATA, cant add\n",
      "iongw1 m4 EactSumImport rows_added: 0\n",
      "last_record_stime: 2017-04-17 13:00\n",
      "len(required): 1\n",
      "TOO LESS DATA, cant add\n",
      "iongw1 m4 EreactSumImport rows_added: 0\n",
      "last_record_stime: 2017-04-17 13:00\n",
      "len(required): 1\n",
      "TOO LESS DATA, cant add\n",
      "iongw1 m4 EactImportPhA rows_added: 0\n",
      "last_record_stime: 2017-04-17 13:00\n",
      "len(required): 1\n",
      "TOO LESS DATA, cant add\n",
      "iongw1 m4 EactImportPhB rows_added: 0\n",
      "last_record_stime: 2017-04-17 13:00\n",
      "len(required): 1\n",
      "TOO LESS DATA, cant add\n",
      "iongw1 m4 EactImportPhC rows_added: 0\n",
      "last_record_stime: 2017-04-17 13:00\n",
      "len(required): 1\n",
      "TOO LESS DATA, cant add\n",
      "iongw1 m5 EactSumImport rows_added: 0\n",
      "last_record_stime: 2017-04-17 13:00\n",
      "len(required): 1\n",
      "TOO LESS DATA, cant add\n",
      "iongw1 m5 EreactSumImport rows_added: 0\n",
      "last_record_stime: 2017-04-17 13:00\n",
      "len(required): 1\n",
      "TOO LESS DATA, cant add\n",
      "iongw1 m5 EactImportPhA rows_added: 0\n",
      "last_record_stime: 2017-04-17 13:00\n",
      "len(required): 1\n",
      "TOO LESS DATA, cant add\n",
      "iongw1 m5 EactImportPhB rows_added: 0\n",
      "last_record_stime: 2017-04-17 13:00\n",
      "len(required): 1\n",
      "TOO LESS DATA, cant add\n",
      "iongw1 m5 EactImportPhC rows_added: 0\n",
      "last_record_stime: 2017-04-17 13:00\n",
      "len(required): 1\n",
      "TOO LESS DATA, cant add\n",
      "iongw1 m6 EactSumImport rows_added: 0\n",
      "last_record_stime: 2017-04-17 13:00\n",
      "len(required): 1\n",
      "TOO LESS DATA, cant add\n",
      "iongw1 m6 EreactSumImport rows_added: 0\n",
      "last_record_stime: 2017-04-17 13:00\n",
      "len(required): 1\n",
      "TOO LESS DATA, cant add\n",
      "iongw1 m6 EactImportPhA rows_added: 0\n",
      "last_record_stime: 2017-04-17 13:00\n",
      "len(required): 1\n",
      "TOO LESS DATA, cant add\n",
      "iongw1 m6 EactImportPhB rows_added: 0\n",
      "last_record_stime: 2017-04-17 13:00\n",
      "len(required): 1\n",
      "TOO LESS DATA, cant add\n",
      "iongw1 m6 EactImportPhC rows_added: 0\n",
      "last_record_stime: 2017-04-17 13:00\n",
      "len(required): 1\n",
      "TOO LESS DATA, cant add\n",
      "iongw1 m7 EactSumImport rows_added: 0\n",
      "last_record_stime: 2017-04-17 13:00\n",
      "len(required): 1\n",
      "TOO LESS DATA, cant add\n",
      "iongw1 m7 EreactSumImport rows_added: 0\n",
      "last_record_stime: 2017-04-17 13:00\n",
      "len(required): 1\n",
      "TOO LESS DATA, cant add\n",
      "iongw1 m7 EactImportPhA rows_added: 0\n",
      "last_record_stime: 2017-04-17 13:00\n",
      "len(required): 1\n",
      "TOO LESS DATA, cant add\n",
      "iongw1 m7 EactImportPhB rows_added: 0\n",
      "last_record_stime: 2017-04-17 13:00\n",
      "len(required): 1\n",
      "TOO LESS DATA, cant add\n",
      "iongw1 m7 EactImportPhC rows_added: 0\n"
     ]
    }
   ],
   "source": [
    "m = func.date_part('minute',cast(Data.stime, types.DateTime)).label('m')\n",
    "h = func.date_part('hour',cast(Data.stime, types.DateTime)).label('h')\n",
    "\n",
    "# Here define gateway, device and tags to add hourly procedure\n",
    "gw_list = session.query(Gateway).all()\n",
    "device_list = session.query(Device).all()\n",
    "tag_list = session.query(Tag).filter(Tag.name.ilike('%import%')&~Tag.name.ilike('%part%')).all()\n",
    "\n",
    "for i,t in enumerate(tag_list):\n",
    "    print i,t.name\n",
    "\n",
    "for g in gw_list:\n",
    "    for d in device_list:\n",
    "        for t in tag_list:\n",
    "            one_tag_shot(g,d,t)\n"
   ]
  },
  {
   "cell_type": "code",
   "execution_count": 13,
   "metadata": {
    "collapsed": false,
    "deletable": true,
    "editable": true
   },
   "outputs": [
    {
     "name": "stdout",
     "output_type": "stream",
     "text": [
      "len(last_record): 116\n",
      "0 <Hourly(id='10106', value='1300.0')> 2017-04-17 13:00\n",
      "1 <Hourly(id='10071', value='1170.0')> 2017-04-17 12:00\n",
      "2 <Hourly(id='10070', value='1200.0')> 2017-04-17 11:00\n",
      "3 <Hourly(id='10069', value='1460.0')> 2017-04-17 10:00\n",
      "4 <Hourly(id='10068', value='1370.0')> 2017-04-17 09:00\n",
      "4060\n"
     ]
    }
   ],
   "source": [
    "last_record = session.query(Hourly).filter(\n",
    "    and_(\n",
    "        Hourly.gateway==g,\n",
    "        Hourly.device==d,\n",
    "        Hourly.tag==t,\n",
    "    )\n",
    ").order_by(Hourly.id.desc()).all()\n",
    "\n",
    "print \"len(last_record):\", len(last_record)\n",
    "for i,r in enumerate(last_record[:5]):\n",
    "    print i, r,r.stime\n",
    "\n",
    "print session.query(Hourly).count()"
   ]
  },
  {
   "cell_type": "code",
   "execution_count": 12,
   "metadata": {
    "collapsed": false,
    "deletable": true,
    "editable": true
   },
   "outputs": [],
   "source": [
    "# session.query(Hourly).delete()\n",
    "# session.commit()"
   ]
  }
 ],
 "metadata": {
  "kernelspec": {
   "display_name": "Python 2",
   "language": "python",
   "name": "python2"
  },
  "language_info": {
   "codemirror_mode": {
    "name": "ipython",
    "version": 2
   },
   "file_extension": ".py",
   "mimetype": "text/x-python",
   "name": "python",
   "nbconvert_exporter": "python",
   "pygments_lexer": "ipython2",
   "version": "2.7.5"
  }
 },
 "nbformat": 4,
 "nbformat_minor": 2
}
